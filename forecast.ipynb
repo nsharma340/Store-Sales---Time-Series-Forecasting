{
 "cells": [
  {
   "cell_type": "markdown",
   "id": "89885707-1e3a-4835-a68d-d94e015682df",
   "metadata": {},
   "source": [
    "<h2 style=\"text-align: center;\"> Store Sales - Time Series Forecasting "
   ]
  },
  {
   "cell_type": "markdown",
   "id": "8f54b0d6-a9d8-4b0f-b59f-d3da6f6e949e",
   "metadata": {},
   "source": [
    "### Problem Statement:\n",
    "\n",
    "In this competition, we will predict sales for the thousands of product families sold at Favorita stores located in Ecuador. The training data includes dates, store and product information, whether that item was being promoted, as well as the sales numbers. Additional files include supplementary information that may be useful in building your models."
   ]
  },
  {
   "cell_type": "code",
   "execution_count": null,
   "id": "b052fc2d-5b00-4324-b15e-e66bf825c10c",
   "metadata": {},
   "outputs": [],
   "source": []
  }
 ],
 "metadata": {
  "kernelspec": {
   "display_name": "Python 3 (ipykernel)",
   "language": "python",
   "name": "python3"
  },
  "language_info": {
   "codemirror_mode": {
    "name": "ipython",
    "version": 3
   },
   "file_extension": ".py",
   "mimetype": "text/x-python",
   "name": "python",
   "nbconvert_exporter": "python",
   "pygments_lexer": "ipython3",
   "version": "3.12.3"
  }
 },
 "nbformat": 4,
 "nbformat_minor": 5
}
